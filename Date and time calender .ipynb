{
 "cells": [
  {
   "cell_type": "code",
   "execution_count": 16,
   "metadata": {},
   "outputs": [
    {
     "name": "stdout",
     "output_type": "stream",
     "text": [
      "Local current time : 1596816782.764488\n"
     ]
    }
   ],
   "source": [
    "#simple Example\n",
    "\n",
    "import time;\n",
    "\n",
    "abhay = time.time()\n",
    "print(\"Local current time :\", abhay)"
   ]
  },
  {
   "cell_type": "code",
   "execution_count": 15,
   "metadata": {},
   "outputs": [
    {
     "name": "stdout",
     "output_type": "stream",
     "text": [
      "Local current time : time.struct_time(tm_year=2020, tm_mon=8, tm_mday=7, tm_hour=21, tm_min=42, tm_sec=54, tm_wday=4, tm_yday=220, tm_isdst=0)\n"
     ]
    }
   ],
   "source": [
    "#localtime Example\n",
    "\n",
    "import time;\n",
    "\n",
    "abhay = time.localtime(time.time())\n",
    "print(\"Local current time :\", abhay)"
   ]
  },
  {
   "cell_type": "code",
   "execution_count": 14,
   "metadata": {},
   "outputs": [
    {
     "name": "stdout",
     "output_type": "stream",
     "text": [
      "Local current time : Fri Aug  7 21:42:12 2020\n"
     ]
    }
   ],
   "source": [
    "#formatted time using the ---asctime-- function\n",
    "\n",
    "import time;\n",
    "\n",
    "abhay = time.asctime( time.localtime(time.time()) )\n",
    "print(\"Local current time :\", abhay)"
   ]
  },
  {
   "cell_type": "code",
   "execution_count": 21,
   "metadata": {},
   "outputs": [
    {
     "name": "stdout",
     "output_type": "stream",
     "text": [
      "calendar:\n",
      "    January 2020\n",
      "Mo Tu We Th Fr Sa Su\n",
      "       1  2  3  4  5\n",
      " 6  7  8  9 10 11 12\n",
      "13 14 15 16 17 18 19\n",
      "20 21 22 23 24 25 26\n",
      "27 28 29 30 31\n",
      "\n"
     ]
    }
   ],
   "source": [
    "#calendar type ----use to print command to completly calader output\n",
    "\n",
    "import calendar\n",
    "\n",
    "abhay = calendar.month(2020, 1)\n",
    "print(\"calendar:\")\n",
    "print(abhay)"
   ]
  }
 ],
 "metadata": {
  "kernelspec": {
   "display_name": "Python 3",
   "language": "python",
   "name": "python3"
  },
  "language_info": {
   "codemirror_mode": {
    "name": "ipython",
    "version": 3
   },
   "file_extension": ".py",
   "mimetype": "text/x-python",
   "name": "python",
   "nbconvert_exporter": "python",
   "pygments_lexer": "ipython3",
   "version": "3.8.2"
  }
 },
 "nbformat": 4,
 "nbformat_minor": 4
}
