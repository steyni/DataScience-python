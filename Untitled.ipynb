{
 "cells": [
  {
   "cell_type": "markdown",
   "metadata": {},
   "source": [
    "# PANDAS ----Dataframe uses example"
   ]
  },
  {
   "cell_type": "code",
   "execution_count": 21,
   "metadata": {},
   "outputs": [
    {
     "name": "stdout",
     "output_type": "stream",
     "text": [
      "    Name  Age  Address\n",
      "1  Abhay   21  Gujarat\n"
     ]
    }
   ],
   "source": [
    "import pandas as pd\n",
    "\n",
    "a={'Name':'Abhay',\n",
    "    'Age':21,\n",
    "    'Address':\"Gujarat\"}\n",
    "data=pd.DataFrame(a,index=[1])\n",
    "print(data)"
   ]
  },
  {
   "cell_type": "code",
   "execution_count": 29,
   "metadata": {},
   "outputs": [
    {
     "name": "stdout",
     "output_type": "stream",
     "text": [
      "    Devices  price  date_of manufactures\n",
      "0  computer  25000                  2020\n",
      "1  keyboard    450                  2019\n",
      "2     mouse    210                  2020\n",
      "3   charger   1200                  2015\n"
     ]
    }
   ],
   "source": [
    "import pandas as pd\n",
    "\n",
    "abhay=pd.DataFrame([['computer',25000,2020],\n",
    "                    ['keyboard',450,2019],\n",
    "                    ['mouse',210,2020],\n",
    "                    ['charger',1200,2015]],columns=['Devices','price','date_of manufactures'])\n",
    "\n",
    "print(abhay)"
   ]
  }
 ],
 "metadata": {
  "kernelspec": {
   "display_name": "Python 3",
   "language": "python",
   "name": "python3"
  },
  "language_info": {
   "codemirror_mode": {
    "name": "ipython",
    "version": 3
   },
   "file_extension": ".py",
   "mimetype": "text/x-python",
   "name": "python",
   "nbconvert_exporter": "python",
   "pygments_lexer": "ipython3",
   "version": "3.8.2"
  }
 },
 "nbformat": 4,
 "nbformat_minor": 4
}
